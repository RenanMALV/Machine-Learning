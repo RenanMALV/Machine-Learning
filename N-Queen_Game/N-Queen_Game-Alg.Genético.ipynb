{
  "nbformat": 4,
  "nbformat_minor": 0,
  "metadata": {
    "colab": {
      "provenance": []
    },
    "kernelspec": {
      "name": "python3",
      "display_name": "Python 3"
    },
    "language_info": {
      "name": "python"
    }
  },
  "cells": [
    {
      "cell_type": "code",
      "execution_count": null,
      "metadata": {
        "id": "f69W-0CCxUn_"
      },
      "outputs": [],
      "source": [
        "# Trabalho 3"
      ]
    },
    {
      "cell_type": "code",
      "source": [
        "# 1 - Modelagem\n",
        "\n",
        "# a) O tabuleiro será representado por uma lista l de N elementos, onde cada elemento i de l representará uma coluna contendo\n",
        "#    rainha, e o valor i representará a fileira na qual essa rainha está localizada.\n",
        "#    Portanto, com essa modelagem, heverá exatamente uma rainha em cada coluna do tabuleiro, eliminando\n",
        "#    assim, a necessidade de verificar ataques na vertical.\n",
        "#    As fileiras e colunas serão indexadas de 0 a N-1.\n",
        "#\n",
        "#    Exemplo:   tabuleiro 4x4      l=[0,3,1,1]"
      ],
      "metadata": {
        "id": "eQJRUR-kx7og"
      },
      "execution_count": null,
      "outputs": []
    },
    {
      "cell_type": "code",
      "source": [
        "# 2 - Implementação Base"
      ],
      "metadata": {
        "id": "abtsjw59zR_L"
      },
      "execution_count": null,
      "outputs": []
    },
    {
      "cell_type": "code",
      "source": [
        "# ------- imports -------\n",
        "import random\n",
        "import matplotlib.pyplot as plt\n",
        "# ------- imports -------"
      ],
      "metadata": {
        "id": "ZvLDrLJcVHKX"
      },
      "execution_count": null,
      "outputs": []
    },
    {
      "cell_type": "code",
      "source": [
        "#a) Função que cria tabuleiros\n",
        "\n",
        "# Criando q tabuleiros aleatórios de dimensão n\n",
        "# Retorna a lista dos tabuleiros criados\n",
        "def tabuleiros(n,q):\n",
        "  tabList = []\n",
        "  for i in range(q):\n",
        "    tab = []\n",
        "    for j in range(n):\n",
        "      tab.append(int(random.random()*n)) #define aleatoriamente a posição da rainha\n",
        "    tabList.append(tab)           #adiciona à lista de tabuleiros\n",
        "  return tabList"
      ],
      "metadata": {
        "id": "b2coYHOe3EZS"
      },
      "execution_count": null,
      "outputs": []
    },
    {
      "cell_type": "code",
      "source": [
        "#b) Função todosVizinhos\n",
        "\n",
        "# Recebe um tabuleiro\n",
        "# Retorna todos os estados vizinhos\n",
        "def todosVizinhos(tab):\n",
        "  vizinhos = []\n",
        "  for i in range(len(tab)): # iterador da coluna\n",
        "    for j in range(len(tab)): # iterador da linha\n",
        "      temp = tab.copy()\n",
        "      if tab[i] != j :  #quando é igual, trata-se do próprio tabuleiro, e não de um vizinho\n",
        "        temp[i] = j     #altera a posição da rainha na coluna i\n",
        "        vizinhos.append(temp)\n",
        "  return vizinhos\n",
        ""
      ],
      "metadata": {
        "id": "VbBKfyTA5YkK"
      },
      "execution_count": null,
      "outputs": []
    },
    {
      "cell_type": "code",
      "source": [
        "#c) Função umVizinho\n",
        "\n",
        "# Recebe um tabuleiro\n",
        "# Retorna um estado vizinho deste tabuleiro\n",
        "def umVizinho(tab):\n",
        "  vizinho = tab.copy()\n",
        "  coluna = int(random.random()*len(tab))\n",
        "  linha = int(random.random()*len(tab))\n",
        "  while linha == tab[coluna]:  #testa se a função não sorteou o próprio tabuleiro\n",
        "    linha = int(random.random()*len(tab))\n",
        "  vizinho[coluna] = linha\n",
        "  return vizinho\n",
        "\n",
        "#A função todosVizinhos poderia ter sido usada, mas não pareceu muito eficiente\n",
        "# gerar todos os vizinhos para depois selecionar apenas um."
      ],
      "metadata": {
        "id": "Mc-lWQ_K5xNd"
      },
      "execution_count": null,
      "outputs": []
    },
    {
      "cell_type": "code",
      "source": [
        "#d) Função que calcula o numero de ataques\n",
        "\n",
        "# Recebe um tabuleiro\n",
        "# Retorna o numero de ataques entre as rainhas\n",
        "def numeroAtaques(tab):\n",
        "  num = 0\n",
        "  for i in range(len(tab)):\n",
        "    for j in range(i+1,len(tab)): # Só avalia colunas à direita\n",
        "      k = j-i  #diferença entre as colunas i e j usada para avaliar ataque diagonal\n",
        "      if tab[i]==tab[j] or tab[i]+k==tab[j] or  tab[i]-k==tab[j]:\n",
        "        num += 1\n",
        "  return num"
      ],
      "metadata": {
        "id": "JNJKPV_0A3ls"
      },
      "execution_count": null,
      "outputs": []
    },
    {
      "cell_type": "code",
      "source": [
        "# Implementação do algoritmo genético\n",
        "  #Os operadores estão definidos abaixo\n",
        "\n",
        "TAMTAB = 8 # tamanho do tabuleiro\n",
        "\n",
        "\n",
        "\n",
        "#probabilidades são passadas em intervalo de 0 a 1\n",
        "def genetico(tampop,ngen,pcros,pmut,popIni=None,elitismo=False):\n",
        "\n",
        "  #gera população inicial se ela não for passada como parâmetro\n",
        "  if popIni == None or len(popIni) == 0:\n",
        "    popIni = tabuleiros(TAMTAB,tampop)\n",
        "\n",
        "  # avalia população inicial\n",
        "  ava = avalia(popIni)\n",
        "  melhor = 0\n",
        "  sum = 0\n",
        "  for i in range(tampop):\n",
        "    if ava[i]>melhor:\n",
        "      melhor = ava[i]\n",
        "    sum += ava[i]\n",
        "\n",
        "  # cria lista de melhores e médias para geração dos gráficos\n",
        "  adapt = [melhor]\n",
        "  med = [sum/tampop]\n",
        "\n",
        "  # população intermediária\n",
        "  popInt = popIni.copy()\n",
        "\n",
        "  #para cada geração\n",
        "  for i in range(ngen):\n",
        "    #avalia tabuleiro\n",
        "    ava = avalia(popInt)\n",
        "    #elitismo\n",
        "    index = 0\n",
        "    elit = popInt[index]\n",
        "    if elitismo:\n",
        "      for i in range(tampop):\n",
        "        if ava[i]>ava[index]:\n",
        "          elit = popInt[i]\n",
        "    #constrói população intermediária usando a roleta\n",
        "    popInt = roleta(popInt, ava, tampop)\n",
        "    #faz crossover\n",
        "    popInt = crossover(popInt,pcros)\n",
        "    #faz mutação\n",
        "    popInt = mutacao(popInt,pmut)\n",
        "    #continuação elitismo\n",
        "    if elitismo:\n",
        "      popInt[0] = elit\n",
        "    #adiciona melhor indivíduo e média às listas\n",
        "    melhor = 0\n",
        "    sum = 0\n",
        "    for i in range(tampop):\n",
        "      if ava[i]>melhor:\n",
        "        melhor = ava[i]\n",
        "      sum += ava[i]\n",
        "    adapt.append(melhor)\n",
        "    med.append(sum/tampop)\n",
        "\n",
        "  #plota os gráficos\n",
        "  graphGenAdapt(ngen,adapt,med)\n",
        "\n",
        "  # printando o melhor indivíduo da última geração\n",
        "  index = 0\n",
        "  avaUlt = avalia(popInt)\n",
        "  melhorUlt = avaUlt[index]\n",
        "  for i in range(tampop):\n",
        "    if avaUlt[i]>melhorUlt:\n",
        "      melhorUlt = avaUlt[i]\n",
        "      index = i\n",
        "  print(\"Melhor: \", popInt[index], \"Adaptação = \", melhorUlt)\n",
        "\n",
        "\n",
        "\n"
      ],
      "metadata": {
        "id": "lzNamvj7_fXB"
      },
      "execution_count": null,
      "outputs": []
    },
    {
      "cell_type": "code",
      "source": [
        "# Função que avalia os tabuleiros e\n",
        "# retorna lista com o valor de adaptação dos indivíduos em uma população\n",
        "\n",
        "def avalia(tabs):\n",
        "  adapt = []\n",
        "  maxAtk = 0\n",
        "  for i in range(TAMTAB): #faz o somatório para determinar ataques máximos\n",
        "    maxAtk += i\n",
        "  for i in range(len(tabs)):\n",
        "    adapt.append(maxAtk - numeroAtaques(tabs[i])) # se não ocorrer ataques,\n",
        "    # o valor é ótimo (maxAtk), valor minimo = 0 -> todas as rainhas se atacam\n",
        "  return adapt"
      ],
      "metadata": {
        "id": "8onAi-mKrTxg"
      },
      "execution_count": null,
      "outputs": []
    },
    {
      "cell_type": "code",
      "source": [
        "# Função que constrói a roleta\n",
        "  # Recebe a lista da população, suas avaliações(que funcionam como pesos) e seu tamanho,\n",
        "  # retornando uma lista com os indivíduos escolhidos pela roleta,\n",
        "  # respeitando os pesos das avaliações,\n",
        "  # de forma que quem tiver uma avaliação menor, tem menos chances de ser escolhido\n",
        "\n",
        "def roleta(pop, pesos, tampop):\n",
        "  return random.choices(pop, weights=pesos, k=tampop)\n",
        "\n"
      ],
      "metadata": {
        "id": "65QwfM-drqyr"
      },
      "execution_count": null,
      "outputs": []
    },
    {
      "cell_type": "code",
      "source": [
        "# Função que faz o crossover entre os indivíduos da população intermediária\n",
        "\n",
        "def crossover(pop,pcros):\n",
        "  # a lista é percorrida aos pares, então i pode ser a metade do comprimento da lista\n",
        "  for i in range(int(len(pop)/2)):\n",
        "    if random.random() < pcros:    #define se será feito crossover\n",
        "      ia = 2*i\n",
        "      ib = (2*i)+1\n",
        "      temp1 = pop[ia].copy()\n",
        "      temp2 = pop[ib].copy()\n",
        "      corte = int(random.random()*TAMTAB)  #define o ponto de corte\n",
        "      for j in range(corte,TAMTAB):\n",
        "        temp1[j] = pop[ib][j]\n",
        "        temp2[j] = pop[ia][j]\n",
        "      pop[ia] = temp1\n",
        "      pop[ib] = temp2\n",
        "  return pop"
      ],
      "metadata": {
        "id": "3cwT_aJpk5WC"
      },
      "execution_count": null,
      "outputs": []
    },
    {
      "cell_type": "code",
      "source": [
        "# Função que faz a mutação dos indivíduos da população inermediária\n",
        "\n",
        "def mutacao(pop,pmut):\n",
        "  for i in range(len(pop)):\n",
        "    if random.random() < pmut:\n",
        "      # a mutação é um movimento de alguma rainha (estado vizinho)\n",
        "      pop[i] = umVizinho(pop[i])\n",
        "  return pop"
      ],
      "metadata": {
        "id": "J_x8ckPvtraF"
      },
      "execution_count": null,
      "outputs": []
    },
    {
      "cell_type": "code",
      "source": [
        "# ------- gerando os gráficos -------\n",
        "\n",
        "# Geração X Função de ataptação do melhor indivíduo e Adaptação média\n",
        "def graphGenAdapt(ngen,adapt,med):\n",
        "\n",
        "  # plota a linha de avaliação ótima\n",
        "  maxAtk = 0\n",
        "  for i in range(TAMTAB): #faz o somatório para determinar ataques máximos\n",
        "    maxAtk += i\n",
        "  plt.axhline(y=maxAtk, linestyle='--', color=\"red\", label=\"Avaliação ótima\")\n",
        "\n",
        "  # plota os resultados obtidos do grafico Geração X Melhor individuo\n",
        "  plt.plot(range(ngen+1),adapt,label=\"Melhor indivíduo de cada geração\")\n",
        "  #plt.xscale(\"log\")\n",
        "  plt.legend()\n",
        "  plt.xlabel(\"Geração\")\n",
        "  plt.ylabel('Valor de ataptação')\n",
        "  plt.title('Geração X Função de ataptação do melhor indivíduo')\n",
        "  plt.show()\n",
        "\n",
        "  # avaliação ótima\n",
        "  plt.axhline(y=maxAtk, linestyle='--', color=\"red\", label=\"Avaliação ótima\")\n",
        "\n",
        "  # plota os resultados obtidos do gráfico Geração X Média\n",
        "  plt.plot(range(ngen+1),med,label=\"Média de cada geração\")\n",
        "  #plt.xscale(\"log\")\n",
        "  plt.legend()\n",
        "  plt.xlabel(\"Geração\")\n",
        "  plt.ylabel('Média do valor de ataptação')\n",
        "  plt.title('Geração X Adaptação média da geração')\n",
        "  plt.show()\n"
      ],
      "metadata": {
        "id": "42OCXsvSPpXw"
      },
      "execution_count": null,
      "outputs": []
    },
    {
      "cell_type": "code",
      "source": [
        "# ---- TESTES ----"
      ],
      "metadata": {
        "id": "4cSkdonUgq0p"
      },
      "execution_count": null,
      "outputs": []
    },
    {
      "cell_type": "code",
      "source": [
        "genetico(10,10,0.75,0.01,elitismo=True)"
      ],
      "metadata": {
        "colab": {
          "base_uri": "https://localhost:8080/",
          "height": 590
        },
        "id": "2X_Wlb0hKdP8",
        "outputId": "93731d17-7856-4349-ae92-1e825ef098b0"
      },
      "execution_count": null,
      "outputs": [
        {
          "output_type": "display_data",
          "data": {
            "text/plain": [
              "<Figure size 432x288 with 1 Axes>"
            ],
            "image/png": "[encoded data removed]"
          },
          "metadata": {
            "needs_background": "light"
          }
        },
        {
          "output_type": "display_data",
          "data": {
            "text/plain": [
              "<Figure size 432x288 with 1 Axes>"
            ],
            "image/png": "[encoded data removed]"
          },
          "metadata": {
            "needs_background": "light"
          }
        },
        {
          "output_type": "stream",
          "name": "stdout",
          "text": [
            "Melhor:  [3, 1, 0, 2] Adaptação =  5\n"
          ]
        }
      ]
    },
    {
      "cell_type": "code",
      "source": [],
      "metadata": {
        "id": "sWBTlBPwiRBY"
      },
      "execution_count": null,
      "outputs": []
    }
  ]
}